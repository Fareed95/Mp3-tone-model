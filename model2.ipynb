{
 "cells": [
  {
   "cell_type": "code",
   "execution_count": 216,
   "metadata": {},
   "outputs": [
    {
     "name": "stdout",
     "output_type": "stream",
     "text": [
      "Requirement already satisfied: librosa in ./venv/lib/python3.12/site-packages (0.10.2.post1)\n",
      "Requirement already satisfied: numpy in ./venv/lib/python3.12/site-packages (1.26.4)\n",
      "Requirement already satisfied: soundfile in ./venv/lib/python3.12/site-packages (0.12.1)\n",
      "Requirement already satisfied: audioread>=2.1.9 in ./venv/lib/python3.12/site-packages (from librosa) (3.0.1)\n",
      "Requirement already satisfied: scipy>=1.2.0 in ./venv/lib/python3.12/site-packages (from librosa) (1.14.1)\n",
      "Requirement already satisfied: scikit-learn>=0.20.0 in ./venv/lib/python3.12/site-packages (from librosa) (1.5.2)\n",
      "Requirement already satisfied: joblib>=0.14 in ./venv/lib/python3.12/site-packages (from librosa) (1.4.2)\n",
      "Requirement already satisfied: decorator>=4.3.0 in ./venv/lib/python3.12/site-packages (from librosa) (5.1.1)\n",
      "Requirement already satisfied: numba>=0.51.0 in ./venv/lib/python3.12/site-packages (from librosa) (0.60.0)\n",
      "Requirement already satisfied: pooch>=1.1 in ./venv/lib/python3.12/site-packages (from librosa) (1.8.2)\n",
      "Requirement already satisfied: soxr>=0.3.2 in ./venv/lib/python3.12/site-packages (from librosa) (0.5.0.post1)\n",
      "Requirement already satisfied: typing-extensions>=4.1.1 in ./venv/lib/python3.12/site-packages (from librosa) (4.12.2)\n",
      "Requirement already satisfied: lazy-loader>=0.1 in ./venv/lib/python3.12/site-packages (from librosa) (0.4)\n",
      "Requirement already satisfied: msgpack>=1.0 in ./venv/lib/python3.12/site-packages (from librosa) (1.1.0)\n",
      "Requirement already satisfied: cffi>=1.0 in ./venv/lib/python3.12/site-packages (from soundfile) (1.17.1)\n",
      "Requirement already satisfied: pycparser in ./venv/lib/python3.12/site-packages (from cffi>=1.0->soundfile) (2.22)\n",
      "Requirement already satisfied: packaging in ./venv/lib/python3.12/site-packages (from lazy-loader>=0.1->librosa) (24.1)\n",
      "Requirement already satisfied: llvmlite<0.44,>=0.43.0dev0 in ./venv/lib/python3.12/site-packages (from numba>=0.51.0->librosa) (0.43.0)\n",
      "Requirement already satisfied: platformdirs>=2.5.0 in ./venv/lib/python3.12/site-packages (from pooch>=1.1->librosa) (4.3.6)\n",
      "Requirement already satisfied: requests>=2.19.0 in ./venv/lib/python3.12/site-packages (from pooch>=1.1->librosa) (2.32.3)\n",
      "Requirement already satisfied: threadpoolctl>=3.1.0 in ./venv/lib/python3.12/site-packages (from scikit-learn>=0.20.0->librosa) (3.5.0)\n",
      "Requirement already satisfied: charset-normalizer<4,>=2 in ./venv/lib/python3.12/site-packages (from requests>=2.19.0->pooch>=1.1->librosa) (3.3.2)\n",
      "Requirement already satisfied: idna<4,>=2.5 in ./venv/lib/python3.12/site-packages (from requests>=2.19.0->pooch>=1.1->librosa) (3.10)\n",
      "Requirement already satisfied: urllib3<3,>=1.21.1 in ./venv/lib/python3.12/site-packages (from requests>=2.19.0->pooch>=1.1->librosa) (2.2.3)\n",
      "Requirement already satisfied: certifi>=2017.4.17 in ./venv/lib/python3.12/site-packages (from requests>=2.19.0->pooch>=1.1->librosa) (2024.8.30)\n",
      "Requirement already satisfied: noisereduce in ./venv/lib/python3.12/site-packages (3.0.3)\n",
      "Requirement already satisfied: scipy in ./venv/lib/python3.12/site-packages (from noisereduce) (1.14.1)\n",
      "Requirement already satisfied: matplotlib in ./venv/lib/python3.12/site-packages (from noisereduce) (3.9.2)\n",
      "Requirement already satisfied: numpy in ./venv/lib/python3.12/site-packages (from noisereduce) (1.26.4)\n",
      "Requirement already satisfied: tqdm in ./venv/lib/python3.12/site-packages (from noisereduce) (4.66.5)\n",
      "Requirement already satisfied: joblib in ./venv/lib/python3.12/site-packages (from noisereduce) (1.4.2)\n",
      "Requirement already satisfied: contourpy>=1.0.1 in ./venv/lib/python3.12/site-packages (from matplotlib->noisereduce) (1.3.0)\n",
      "Requirement already satisfied: cycler>=0.10 in ./venv/lib/python3.12/site-packages (from matplotlib->noisereduce) (0.12.1)\n",
      "Requirement already satisfied: fonttools>=4.22.0 in ./venv/lib/python3.12/site-packages (from matplotlib->noisereduce) (4.54.1)\n",
      "Requirement already satisfied: kiwisolver>=1.3.1 in ./venv/lib/python3.12/site-packages (from matplotlib->noisereduce) (1.4.7)\n",
      "Requirement already satisfied: packaging>=20.0 in ./venv/lib/python3.12/site-packages (from matplotlib->noisereduce) (24.1)\n",
      "Requirement already satisfied: pillow>=8 in ./venv/lib/python3.12/site-packages (from matplotlib->noisereduce) (10.4.0)\n",
      "Requirement already satisfied: pyparsing>=2.3.1 in ./venv/lib/python3.12/site-packages (from matplotlib->noisereduce) (3.1.4)\n",
      "Requirement already satisfied: python-dateutil>=2.7 in ./venv/lib/python3.12/site-packages (from matplotlib->noisereduce) (2.9.0.post0)\n",
      "Requirement already satisfied: six>=1.5 in ./venv/lib/python3.12/site-packages (from python-dateutil>=2.7->matplotlib->noisereduce) (1.16.0)\n",
      "Requirement already satisfied: pydub in ./venv/lib/python3.12/site-packages (0.25.1)\n",
      "E: Could not open lock file /var/lib/dpkg/lock-frontend - open (13: Permission denied)\n",
      "E: Unable to acquire the dpkg frontend lock (/var/lib/dpkg/lock-frontend), are you root?\n"
     ]
    }
   ],
   "source": [
    "!pip install librosa numpy soundfile\n",
    "!pip install noisereduce\n",
    "!pip install pydub\n",
    "!apt-get install ffmpeg  # For Linux environments\n",
    "\n"
   ]
  },
  {
   "cell_type": "code",
   "execution_count": 217,
   "metadata": {},
   "outputs": [],
   "source": [
    "import librosa\n",
    "import librosa.display\n",
    "import matplotlib.pyplot as plt\n",
    "\n",
    "def load_audio(audio_file):\n",
    "    # Load the audio file\n",
    "    y, sr = librosa.load(audio_file)\n",
    "    # Plot the waveform\n",
    "    plt.figure(figsize=(10, 4))\n",
    "    librosa.display.waveshow(y, sr=sr)\n",
    "    plt.title('Waveform of Audio')\n",
    "    plt.xlabel('Time (seconds)')\n",
    "    plt.ylabel('Amplitude')\n",
    "    plt.show()\n",
    "\n",
    "    return y, sr\n",
    "\n",
    "# Usage\n",
    "# audio_file_path = 'sample_audio2.ogg'  # Replace with your file path\n",
    "\n"
   ]
  },
  {
   "cell_type": "code",
   "execution_count": 218,
   "metadata": {},
   "outputs": [
    {
     "ename": "FileNotFoundError",
     "evalue": "[Errno 2] No such file or directory: 'models/archive/cv-valid-train/cv-valid-train/sample-0000010.mp3'",
     "output_type": "error",
     "traceback": [
      "\u001b[0;31m---------------------------------------------------------------------------\u001b[0m",
      "\u001b[0;31mFileNotFoundError\u001b[0m                         Traceback (most recent call last)",
      "Cell \u001b[0;32mIn[218], line 19\u001b[0m\n\u001b[1;32m     17\u001b[0m \u001b[38;5;66;03m#input_ogg_file ='sample_audio1.ogg'  # Replace with your .ogg file path\u001b[39;00m\n\u001b[1;32m     18\u001b[0m output_wav_file \u001b[38;5;241m=\u001b[39m \u001b[38;5;124m'\u001b[39m\u001b[38;5;124mconverted_audio.wav\u001b[39m\u001b[38;5;124m'\u001b[39m  \u001b[38;5;66;03m# Desired output file name\u001b[39;00m\n\u001b[0;32m---> 19\u001b[0m \u001b[43mconvert_mp3_to_wav\u001b[49m\u001b[43m(\u001b[49m\u001b[43minput_ogg_file\u001b[49m\u001b[43m,\u001b[49m\u001b[43m \u001b[49m\u001b[43moutput_wav_file\u001b[49m\u001b[43m)\u001b[49m\n\u001b[1;32m     20\u001b[0m \u001b[38;5;66;03m#convert_ogg_to_wav(input_ogg_file, output_wav_file)\u001b[39;00m\n\u001b[1;32m     21\u001b[0m y, sr \u001b[38;5;241m=\u001b[39m load_audio(output_wav_file)\n",
      "Cell \u001b[0;32mIn[218], line 6\u001b[0m, in \u001b[0;36mconvert_mp3_to_wav\u001b[0;34m(input_file, output_file)\u001b[0m\n\u001b[1;32m      4\u001b[0m \u001b[38;5;28;01mdef\u001b[39;00m \u001b[38;5;21mconvert_mp3_to_wav\u001b[39m(input_file, output_file):\n\u001b[1;32m      5\u001b[0m     \u001b[38;5;66;03m# Load .ogg file\u001b[39;00m\n\u001b[0;32m----> 6\u001b[0m     audio \u001b[38;5;241m=\u001b[39m \u001b[43mAudioSegment\u001b[49m\u001b[38;5;241;43m.\u001b[39;49m\u001b[43mfrom_mp3\u001b[49m\u001b[43m(\u001b[49m\u001b[43minput_file\u001b[49m\u001b[43m)\u001b[49m\n\u001b[1;32m      7\u001b[0m     \u001b[38;5;66;03m# Export as .wav\u001b[39;00m\n\u001b[1;32m      8\u001b[0m     audio\u001b[38;5;241m.\u001b[39mexport(output_file, \u001b[38;5;28mformat\u001b[39m\u001b[38;5;241m=\u001b[39m\u001b[38;5;124m\"\u001b[39m\u001b[38;5;124mwav\u001b[39m\u001b[38;5;124m\"\u001b[39m)\n",
      "File \u001b[0;32m~/Documents/mp3-tone-model /venv/lib/python3.12/site-packages/pydub/audio_segment.py:796\u001b[0m, in \u001b[0;36mAudioSegment.from_mp3\u001b[0;34m(cls, file, parameters)\u001b[0m\n\u001b[1;32m    794\u001b[0m \u001b[38;5;129m@classmethod\u001b[39m\n\u001b[1;32m    795\u001b[0m \u001b[38;5;28;01mdef\u001b[39;00m \u001b[38;5;21mfrom_mp3\u001b[39m(\u001b[38;5;28mcls\u001b[39m, file, parameters\u001b[38;5;241m=\u001b[39m\u001b[38;5;28;01mNone\u001b[39;00m):\n\u001b[0;32m--> 796\u001b[0m     \u001b[38;5;28;01mreturn\u001b[39;00m \u001b[38;5;28;43mcls\u001b[39;49m\u001b[38;5;241;43m.\u001b[39;49m\u001b[43mfrom_file\u001b[49m\u001b[43m(\u001b[49m\u001b[43mfile\u001b[49m\u001b[43m,\u001b[49m\u001b[43m \u001b[49m\u001b[38;5;124;43m'\u001b[39;49m\u001b[38;5;124;43mmp3\u001b[39;49m\u001b[38;5;124;43m'\u001b[39;49m\u001b[43m,\u001b[49m\u001b[43m \u001b[49m\u001b[43mparameters\u001b[49m\u001b[38;5;241;43m=\u001b[39;49m\u001b[43mparameters\u001b[49m\u001b[43m)\u001b[49m\n",
      "File \u001b[0;32m~/Documents/mp3-tone-model /venv/lib/python3.12/site-packages/pydub/audio_segment.py:651\u001b[0m, in \u001b[0;36mAudioSegment.from_file\u001b[0;34m(cls, file, format, codec, parameters, start_second, duration, **kwargs)\u001b[0m\n\u001b[1;32m    649\u001b[0m \u001b[38;5;28;01mexcept\u001b[39;00m \u001b[38;5;167;01mTypeError\u001b[39;00m:\n\u001b[1;32m    650\u001b[0m     filename \u001b[38;5;241m=\u001b[39m \u001b[38;5;28;01mNone\u001b[39;00m\n\u001b[0;32m--> 651\u001b[0m file, close_file \u001b[38;5;241m=\u001b[39m \u001b[43m_fd_or_path_or_tempfile\u001b[49m\u001b[43m(\u001b[49m\u001b[43mfile\u001b[49m\u001b[43m,\u001b[49m\u001b[43m \u001b[49m\u001b[38;5;124;43m'\u001b[39;49m\u001b[38;5;124;43mrb\u001b[39;49m\u001b[38;5;124;43m'\u001b[39;49m\u001b[43m,\u001b[49m\u001b[43m \u001b[49m\u001b[43mtempfile\u001b[49m\u001b[38;5;241;43m=\u001b[39;49m\u001b[38;5;28;43;01mFalse\u001b[39;49;00m\u001b[43m)\u001b[49m\n\u001b[1;32m    653\u001b[0m \u001b[38;5;28;01mif\u001b[39;00m \u001b[38;5;28mformat\u001b[39m:\n\u001b[1;32m    654\u001b[0m     \u001b[38;5;28mformat\u001b[39m \u001b[38;5;241m=\u001b[39m \u001b[38;5;28mformat\u001b[39m\u001b[38;5;241m.\u001b[39mlower()\n",
      "File \u001b[0;32m~/Documents/mp3-tone-model /venv/lib/python3.12/site-packages/pydub/utils.py:60\u001b[0m, in \u001b[0;36m_fd_or_path_or_tempfile\u001b[0;34m(fd, mode, tempfile)\u001b[0m\n\u001b[1;32m     57\u001b[0m     close_fd \u001b[38;5;241m=\u001b[39m \u001b[38;5;28;01mTrue\u001b[39;00m\n\u001b[1;32m     59\u001b[0m \u001b[38;5;28;01mif\u001b[39;00m \u001b[38;5;28misinstance\u001b[39m(fd, basestring):\n\u001b[0;32m---> 60\u001b[0m     fd \u001b[38;5;241m=\u001b[39m \u001b[38;5;28;43mopen\u001b[39;49m\u001b[43m(\u001b[49m\u001b[43mfd\u001b[49m\u001b[43m,\u001b[49m\u001b[43m \u001b[49m\u001b[43mmode\u001b[49m\u001b[38;5;241;43m=\u001b[39;49m\u001b[43mmode\u001b[49m\u001b[43m)\u001b[49m\n\u001b[1;32m     61\u001b[0m     close_fd \u001b[38;5;241m=\u001b[39m \u001b[38;5;28;01mTrue\u001b[39;00m\n\u001b[1;32m     63\u001b[0m \u001b[38;5;28;01mtry\u001b[39;00m:\n",
      "\u001b[0;31mFileNotFoundError\u001b[0m: [Errno 2] No such file or directory: 'models/archive/cv-valid-train/cv-valid-train/sample-0000010.mp3'"
     ]
    }
   ],
   "source": [
    "from pydub import AudioSegment\n",
    "import os \n",
    "\n",
    "def convert_mp3_to_wav(input_file, output_file):\n",
    "    # Load .ogg file\n",
    "    audio = AudioSegment.from_mp3(input_file)\n",
    "    # Export as .wav\n",
    "    audio.export(output_file, format=\"wav\")\n",
    "def convert_ogg_to_wav(input_file, output_file):\n",
    "    # Load .ogg file\n",
    "    audio = AudioSegment.from_ogg(input_file)\n",
    "    # Export as .wav\n",
    "    audio.export(output_file, format=\"wav\")\n",
    "\n",
    "# Usage\n",
    "input_ogg_file = os.path.join('models','archive','cv-valid-train','cv-valid-train','sample-000010.mp3')  # Replace with your .mp3 file path\n",
    "#input_ogg_file ='sample_audio1.ogg'  # Replace with your .ogg file path\n",
    "output_wav_file = 'converted_audio.wav'  # Desired output file name\n",
    "convert_mp3_to_wav(input_ogg_file, output_wav_file)\n",
    "#convert_ogg_to_wav(input_ogg_file, output_wav_file)\n",
    "y, sr = load_audio(output_wav_file)\n"
   ]
  },
  {
   "cell_type": "code",
   "execution_count": 211,
   "metadata": {},
   "outputs": [
    {
     "name": "stdout",
     "output_type": "stream",
     "text": [
      "Average Pitch: 269.00 Hz\n"
     ]
    }
   ],
   "source": [
    "import numpy as np\n",
    "\n",
    "def detect_pitch(y, sr):\n",
    "    pitches, magnitudes = librosa.piptrack(y=y, sr=sr)\n",
    "\n",
    "    # Extract the pitch values\n",
    "    pitch_values = []\n",
    "    for t in range(pitches.shape[1]):\n",
    "        index = magnitudes[:, t].argmax()\n",
    "        pitch = pitches[index, t]\n",
    "        if pitch > 0:  # Filter out the 0 values\n",
    "            pitch_values.append(pitch)\n",
    "\n",
    "    # Calculate the average pitch, filtering out outliers\n",
    "    if pitch_values:\n",
    "        # Use median to reduce the influence of outliers\n",
    "        avg_pitch = np.median(pitch_values)\n",
    "    else:\n",
    "        avg_pitch = 0\n",
    "\n",
    "    print(f\"Average Pitch: {avg_pitch:.2f} Hz\")\n",
    "    return avg_pitch\n",
    "\n",
    "\n",
    "# Usage\n",
    "avg_pitch = detect_pitch(y, sr)\n"
   ]
  },
  {
   "cell_type": "code",
   "execution_count": 212,
   "metadata": {},
   "outputs": [],
   "source": [
    "def detect_speech_rate(y, sr):\n",
    "    # Detect speech segments using librosa's effects.split\n",
    "    speech_segments = librosa.effects.split(y)\n",
    "    duration = librosa.get_duration(y=y, sr=sr)\n",
    "    speech_duration = np.sum([(end - start) for start, end in speech_segments]) / sr\n",
    "    \n",
    "    # Calculate speech rate (segments per second)\n",
    "    speech_rate = len(speech_segments) / duration if duration > 0 else 0\n",
    "    \n",
    "    # Classify speech rate\n",
    "    if speech_rate < 0.25:\n",
    "        rate_classification = 'Slow Speech'\n",
    "    elif 0.25 <= speech_rate <= 0.5:\n",
    "        rate_classification = 'Normal Speech'\n",
    "    else:\n",
    "        rate_classification = 'Fast Speech'\n",
    "\n",
    "    print(f\"Speech Rate: {speech_rate:.2f} segments per second ({rate_classification})\")\n",
    "    return speech_rate, rate_classification\n"
   ]
  },
  {
   "cell_type": "code",
   "execution_count": 213,
   "metadata": {},
   "outputs": [
    {
     "name": "stdout",
     "output_type": "stream",
     "text": [
      "Detected Gender: Male\n"
     ]
    }
   ],
   "source": [
    "def detect_gender(avg_pitch):\n",
    "    # Simple thresholding to classify gender based on pitch\n",
    "    if avg_pitch < 160:\n",
    "        gender = 'Female'\n",
    "    else:\n",
    "        gender = 'Male'\n",
    "\n",
    "    print(f\"Detected Gender: {gender}\")\n",
    "    return gender\n",
    "\n",
    "# Usage\n",
    "gender = detect_gender(avg_pitch)\n"
   ]
  },
  {
   "cell_type": "code",
   "execution_count": 214,
   "metadata": {},
   "outputs": [
    {
     "data": {
      "image/png": "[encoded data removed]",
      "text/plain": [
       "<Figure size 1000x400 with 1 Axes>"
      ]
     },
     "metadata": {},
     "output_type": "display_data"
    },
    {
     "name": "stdout",
     "output_type": "stream",
     "text": [
      "Average Pitch: 269.00 Hz\n",
      "Speech Rate: 0.13 segments per second (Slow Speech)\n",
      "Detected Gender: Male\n",
      "{'avg_pitch': 268.99908, 'speech_rate': (0.1322751322751323, 'Slow Speech'), 'gender': 'Male'}\n"
     ]
    }
   ],
   "source": [
    "def analyze_audio(audio_file):\n",
    "    # Load audio\n",
    "    y, sr = load_audio(audio_file)\n",
    "    \n",
    "    # Detect features\n",
    "    avg_pitch = detect_pitch(y, sr)\n",
    "    speech_rate = detect_speech_rate(y, sr)\n",
    "    gender = detect_gender(avg_pitch)\n",
    "    \n",
    "    # Summary of results\n",
    "    return {\n",
    "        \"avg_pitch\": avg_pitch,\n",
    "        \"speech_rate\": speech_rate,\n",
    "        \"gender\": gender\n",
    "    }\n",
    "\n",
    "# Usage\n",
    "# audio_file_path = 'your_audio_file.wav'  # Replace with your file path\n",
    "features = analyze_audio(output_wav_file)\n",
    "\n",
    "# Display results\n",
    "print(features)\n"
   ]
  },
  {
   "cell_type": "code",
   "execution_count": 215,
   "metadata": {},
   "outputs": [],
   "source": [
    "!rm -rf converted_audio.wav"
   ]
  }
 ],
 "metadata": {
  "kernelspec": {
   "display_name": "venv",
   "language": "python",
   "name": "python3"
  },
  "language_info": {
   "codemirror_mode": {
    "name": "ipython",
    "version": 3
   },
   "file_extension": ".py",
   "mimetype": "text/x-python",
   "name": "python",
   "nbconvert_exporter": "python",
   "pygments_lexer": "ipython3",
   "version": "3.12.3"
  }
 },
 "nbformat": 4,
 "nbformat_minor": 2
}
